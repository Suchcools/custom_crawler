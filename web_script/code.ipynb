{
 "cells": [
  {
   "cell_type": "code",
   "execution_count": 2,
   "metadata": {},
   "outputs": [
    {
     "name": "stderr",
     "output_type": "stream",
     "text": [
      "/home/linjw/anaconda3/envs/llama/lib/python3.10/site-packages/urllib3/connectionpool.py:1061: InsecureRequestWarning: Unverified HTTPS request is being made to host 'www.baidu.com'. Adding certificate verification is strongly advised. See: https://urllib3.readthedocs.io/en/1.26.x/advanced-usage.html#ssl-warnings\n",
      "  warnings.warn(\n",
      "/home/linjw/anaconda3/envs/llama/lib/python3.10/site-packages/urllib3/connectionpool.py:1061: InsecureRequestWarning: Unverified HTTPS request is being made to host 'wappass.baidu.com'. Adding certificate verification is strongly advised. See: https://urllib3.readthedocs.io/en/1.26.x/advanced-usage.html#ssl-warnings\n",
      "  warnings.warn(\n"
     ]
    },
    {
     "ename": "RuntimeError",
     "evalue": "Cannot run the event loop while another loop is running",
     "output_type": "error",
     "traceback": [
      "\u001b[0;31m---------------------------------------------------------------------------\u001b[0m",
      "\u001b[0;31mRuntimeError\u001b[0m                              Traceback (most recent call last)",
      "\u001b[1;32m/home/linjw/AGI/llama2/spider/web_script/code.ipynb 单元格 1\u001b[0m line \u001b[0;36m7\n\u001b[1;32m      <a href='vscode-notebook-cell://ssh-remote%2Bpizza/home/linjw/AGI/llama2/spider/web_script/code.ipynb#W0sdnNjb2RlLXJlbW90ZQ%3D%3D?line=3'>4</a>\u001b[0m search_engine \u001b[39m=\u001b[39m SearchEngine()\n\u001b[1;32m      <a href='vscode-notebook-cell://ssh-remote%2Bpizza/home/linjw/AGI/llama2/spider/web_script/code.ipynb#W0sdnNjb2RlLXJlbW90ZQ%3D%3D?line=5'>6</a>\u001b[0m search_engine\u001b[39m.\u001b[39mset(\u001b[39m'\u001b[39m\u001b[39mbaidu\u001b[39m\u001b[39m'\u001b[39m)\n\u001b[0;32m----> <a href='vscode-notebook-cell://ssh-remote%2Bpizza/home/linjw/AGI/llama2/spider/web_script/code.ipynb#W0sdnNjb2RlLXJlbW90ZQ%3D%3D?line=6'>7</a>\u001b[0m search_result \u001b[39m=\u001b[39m search_engine\u001b[39m.\u001b[39;49msearch(\u001b[39m'\u001b[39;49m\u001b[39mfinal fantasy\u001b[39;49m\u001b[39m'\u001b[39;49m)\n",
      "File \u001b[0;32m~/anaconda3/envs/llama/lib/python3.10/site-packages/pydork/engine.py:455\u001b[0m, in \u001b[0;36mSearchEngine.search\u001b[0;34m(self, keyword, search_type, maximum)\u001b[0m\n\u001b[1;32m    451\u001b[0m     \u001b[39mbreak\u001b[39;00m\n\u001b[1;32m    453\u001b[0m \u001b[39m# TODO: resultも関数に渡して重複チェックを行わせる\u001b[39;00m\n\u001b[1;32m    454\u001b[0m \u001b[39m# 検索結果をパースしてurlリストを取得する\u001b[39;00m\n\u001b[0;32m--> 455\u001b[0m links \u001b[39m=\u001b[39m \u001b[39mself\u001b[39;49m\u001b[39m.\u001b[39;49mENGINE\u001b[39m.\u001b[39;49mget_links(\n\u001b[1;32m    456\u001b[0m     url, html, search_type)  \u001b[39m# type: ignore\u001b[39;00m\n\u001b[1;32m    458\u001b[0m \u001b[39m# linksの件数に応じて処理を実施\u001b[39;00m\n\u001b[1;32m    459\u001b[0m \u001b[39mif\u001b[39;00m \u001b[39mnot\u001b[39;00m \u001b[39mlen\u001b[39m(links):\n\u001b[1;32m    460\u001b[0m     \u001b[39m# commandの場合の出力処理\u001b[39;00m\n",
      "File \u001b[0;32m~/anaconda3/envs/llama/lib/python3.10/site-packages/pydork/engine_baidu.py:164\u001b[0m, in \u001b[0;36mBaidu.get_links\u001b[0;34m(self, url, html, type)\u001b[0m\n\u001b[1;32m    161\u001b[0m     \u001b[39mself\u001b[39m\u001b[39m.\u001b[39mSOUP_SELECT_TEXT \u001b[39m=\u001b[39m \u001b[39m'\u001b[39m\u001b[39m.c-gap-top-small > span\u001b[39m\u001b[39m'\u001b[39m\n\u001b[1;32m    163\u001b[0m     \u001b[39m# CommonEngineの処理を呼び出す\u001b[39;00m\n\u001b[0;32m--> 164\u001b[0m     links \u001b[39m=\u001b[39m \u001b[39msuper\u001b[39;49m()\u001b[39m.\u001b[39;49mget_links(url, html, \u001b[39mtype\u001b[39;49m)\n\u001b[1;32m    166\u001b[0m \u001b[39melif\u001b[39;00m \u001b[39mtype\u001b[39m \u001b[39m==\u001b[39m \u001b[39m'\u001b[39m\u001b[39mimage\u001b[39m\u001b[39m'\u001b[39m:\n\u001b[1;32m    167\u001b[0m     \u001b[39m# unicode escape\u001b[39;00m\n\u001b[1;32m    168\u001b[0m     \u001b[39m# html = html.encode().decode(\"unicode-escape\")\u001b[39;00m\n\u001b[1;32m    169\u001b[0m     html \u001b[39m=\u001b[39m html\u001b[39m.\u001b[39mreplace(\u001b[39m\"\u001b[39m\u001b[39m\\\\\u001b[39;00m\u001b[39m'\u001b[39m\u001b[39m\"\u001b[39m, \u001b[39m\"\u001b[39m\u001b[39m'\u001b[39m\u001b[39m\"\u001b[39m)\n",
      "File \u001b[0;32m~/anaconda3/envs/llama/lib/python3.10/site-packages/pydork/engine_common.py:661\u001b[0m, in \u001b[0;36mCommonEngine.get_links\u001b[0;34m(self, source_url, html, type)\u001b[0m\n\u001b[1;32m    652\u001b[0m \u001b[39mself\u001b[39m\u001b[39m.\u001b[39mMESSAGE\u001b[39m.\u001b[39mprint_text(\n\u001b[1;32m    653\u001b[0m     \u001b[39m'\u001b[39m\u001b[39m,\u001b[39m\u001b[39m'\u001b[39m\u001b[39m.\u001b[39mjoin(etitles),  \u001b[39m# type: ignore\u001b[39;00m\n\u001b[1;32m    654\u001b[0m     header\u001b[39m=\u001b[39m\u001b[39mself\u001b[39m\u001b[39m.\u001b[39mMESSAGE\u001b[39m.\u001b[39mHEADER \u001b[39m+\u001b[39m \u001b[39m'\u001b[39m\u001b[39m: \u001b[39m\u001b[39m'\u001b[39m \u001b[39m+\u001b[39m Color\u001b[39m.\u001b[39mBLUE \u001b[39m+\u001b[39m \\\n\u001b[0;32m   (...)\u001b[0m\n\u001b[1;32m    657\u001b[0m     mode\u001b[39m=\u001b[39m\u001b[39m\"\u001b[39m\u001b[39mdebug\u001b[39m\u001b[39m\"\u001b[39m,\n\u001b[1;32m    658\u001b[0m )\n\u001b[1;32m    660\u001b[0m \u001b[39m# 加工処理を行う関数に渡す(各エンジンで独自対応)\u001b[39;00m\n\u001b[0;32m--> 661\u001b[0m elinks, etitles, etexts \u001b[39m=\u001b[39m \u001b[39mself\u001b[39;49m\u001b[39m.\u001b[39;49mprocessings_elist(\n\u001b[1;32m    662\u001b[0m     elinks, etitles, etexts)\n\u001b[1;32m    664\u001b[0m \u001b[39m# after processing elists\u001b[39;00m\n\u001b[1;32m    665\u001b[0m \u001b[39mself\u001b[39m\u001b[39m.\u001b[39mMESSAGE\u001b[39m.\u001b[39mprint_text(\n\u001b[1;32m    666\u001b[0m     \u001b[39m'\u001b[39m\u001b[39m,\u001b[39m\u001b[39m'\u001b[39m\u001b[39m.\u001b[39mjoin(elinks),  \u001b[39m# type: ignore\u001b[39;00m\n\u001b[1;32m    667\u001b[0m     header\u001b[39m=\u001b[39m\u001b[39mself\u001b[39m\u001b[39m.\u001b[39mMESSAGE\u001b[39m.\u001b[39mHEADER \u001b[39m+\u001b[39m \u001b[39m'\u001b[39m\u001b[39m: \u001b[39m\u001b[39m'\u001b[39m \u001b[39m+\u001b[39m \\\n\u001b[0;32m   (...)\u001b[0m\n\u001b[1;32m    670\u001b[0m     mode\u001b[39m=\u001b[39m\u001b[39m\"\u001b[39m\u001b[39mdebug\u001b[39m\u001b[39m\"\u001b[39m,\n\u001b[1;32m    671\u001b[0m )\n",
      "File \u001b[0;32m~/anaconda3/envs/llama/lib/python3.10/site-packages/pydork/engine_baidu.py:295\u001b[0m, in \u001b[0;36mBaidu.processings_elist\u001b[0;34m(self, elinks, etitles, etexts)\u001b[0m\n\u001b[1;32m    292\u001b[0m asyncio\u001b[39m.\u001b[39mset_event_loop(loop)\n\u001b[1;32m    294\u001b[0m \u001b[39m# リダイレクト先のurlに置き換え\u001b[39;00m\n\u001b[0;32m--> 295\u001b[0m elinks \u001b[39m=\u001b[39m loop\u001b[39m.\u001b[39;49mrun_until_complete(\n\u001b[1;32m    296\u001b[0m     resolv_links(loop, session, elinks))\n\u001b[1;32m    297\u001b[0m loop\u001b[39m.\u001b[39mclose()\n\u001b[1;32m    299\u001b[0m \u001b[39mreturn\u001b[39;00m elinks, etitles, etexts\n",
      "File \u001b[0;32m~/anaconda3/envs/llama/lib/python3.10/asyncio/base_events.py:625\u001b[0m, in \u001b[0;36mBaseEventLoop.run_until_complete\u001b[0;34m(self, future)\u001b[0m\n\u001b[1;32m    614\u001b[0m \u001b[39m\u001b[39m\u001b[39m\"\"\"Run until the Future is done.\u001b[39;00m\n\u001b[1;32m    615\u001b[0m \n\u001b[1;32m    616\u001b[0m \u001b[39mIf the argument is a coroutine, it is wrapped in a Task.\u001b[39;00m\n\u001b[0;32m   (...)\u001b[0m\n\u001b[1;32m    622\u001b[0m \u001b[39mReturn the Future's result, or raise its exception.\u001b[39;00m\n\u001b[1;32m    623\u001b[0m \u001b[39m\"\"\"\u001b[39;00m\n\u001b[1;32m    624\u001b[0m \u001b[39mself\u001b[39m\u001b[39m.\u001b[39m_check_closed()\n\u001b[0;32m--> 625\u001b[0m \u001b[39mself\u001b[39;49m\u001b[39m.\u001b[39;49m_check_running()\n\u001b[1;32m    627\u001b[0m new_task \u001b[39m=\u001b[39m \u001b[39mnot\u001b[39;00m futures\u001b[39m.\u001b[39misfuture(future)\n\u001b[1;32m    628\u001b[0m future \u001b[39m=\u001b[39m tasks\u001b[39m.\u001b[39mensure_future(future, loop\u001b[39m=\u001b[39m\u001b[39mself\u001b[39m)\n",
      "File \u001b[0;32m~/anaconda3/envs/llama/lib/python3.10/asyncio/base_events.py:586\u001b[0m, in \u001b[0;36mBaseEventLoop._check_running\u001b[0;34m(self)\u001b[0m\n\u001b[1;32m    584\u001b[0m     \u001b[39mraise\u001b[39;00m \u001b[39mRuntimeError\u001b[39;00m(\u001b[39m'\u001b[39m\u001b[39mThis event loop is already running\u001b[39m\u001b[39m'\u001b[39m)\n\u001b[1;32m    585\u001b[0m \u001b[39mif\u001b[39;00m events\u001b[39m.\u001b[39m_get_running_loop() \u001b[39mis\u001b[39;00m \u001b[39mnot\u001b[39;00m \u001b[39mNone\u001b[39;00m:\n\u001b[0;32m--> 586\u001b[0m     \u001b[39mraise\u001b[39;00m \u001b[39mRuntimeError\u001b[39;00m(\n\u001b[1;32m    587\u001b[0m         \u001b[39m'\u001b[39m\u001b[39mCannot run the event loop while another loop is running\u001b[39m\u001b[39m'\u001b[39m)\n",
      "\u001b[0;31mRuntimeError\u001b[0m: Cannot run the event loop while another loop is running"
     ]
    }
   ],
   "source": [
    "from pydork.engine import SearchEngine\n",
    "\n",
    "# SearchEngine\n",
    "search_engine = SearchEngine()\n",
    "\n",
    "search_engine.set('baidu')\n",
    "search_result = search_engine.search('final fantasy')"
   ]
  },
  {
   "cell_type": "code",
   "execution_count": null,
   "metadata": {},
   "outputs": [],
   "source": []
  }
 ],
 "metadata": {
  "kernelspec": {
   "display_name": "llama",
   "language": "python",
   "name": "python3"
  },
  "language_info": {
   "codemirror_mode": {
    "name": "ipython",
    "version": 3
   },
   "file_extension": ".py",
   "mimetype": "text/x-python",
   "name": "python",
   "nbconvert_exporter": "python",
   "pygments_lexer": "ipython3",
   "version": "3.10.12"
  }
 },
 "nbformat": 4,
 "nbformat_minor": 2
}
