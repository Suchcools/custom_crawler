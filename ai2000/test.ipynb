{
 "cells": [
  {
   "cell_type": "code",
   "execution_count": 4,
   "metadata": {},
   "outputs": [],
   "source": [
    "    from selenium import webdriver\n",
    "from selenium.webdriver.common.keys import Keys\n",
    "driver = webdriver.Chrome()\n",
    "driver.get('https://www.aminer.cn/ai2000')"
   ]
  },
  {
   "cell_type": "code",
   "execution_count": null,
   "metadata": {},
   "outputs": [],
   "source": [
    "# 提取页面标题\n",
    "page_title = driver.title\n",
    "print('页面标题:', page_title)\n",
    "\n",
    "# 提取页面上的所有链接\n",
    "links = driver.find_elements_by_tag_name('a')\n",
    "print('页面上的链接:')\n",
    "for link in links:\n",
    "    link_text = link.text\n",
    "    link_url = link.get_attribute('href')\n",
    "    print(link_text, '-', link_url)\n",
    "\n",
    "# 关闭浏览器窗口\n",
    "driver.close()"
   ]
  }
 ],
 "metadata": {
  "kernelspec": {
   "display_name": "scrapy",
   "language": "python",
   "name": "python3"
  },
  "language_info": {
   "codemirror_mode": {
    "name": "ipython",
    "version": 3
   },
   "file_extension": ".py",
   "mimetype": "text/x-python",
   "name": "python",
   "nbconvert_exporter": "python",
   "pygments_lexer": "ipython3",
   "version": "3.7.13"
  },
  "orig_nbformat": 4
 },
 "nbformat": 4,
 "nbformat_minor": 2
}
