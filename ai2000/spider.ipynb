{
 "cells": [
  {
   "cell_type": "code",
   "execution_count": 7,
   "metadata": {},
   "outputs": [],
   "source": [
    "import requests"
   ]
  },
  {
   "cell_type": "code",
   "execution_count": 2,
   "metadata": {},
   "outputs": [
    {
     "name": "stdout",
     "output_type": "stream",
     "text": [
      "请求成功\n",
      "\n"
     ]
    }
   ],
   "source": [
    "# 定义目标URL\n",
    "url = 'https://api.growingio.com/v2/ae8dfb99e5e4cda1/web/action?stm=1696402201447'  # 替换成你要发送请求的目标URL\n",
    "\n",
    "# 定义请求数据（如果需要的话）\n",
    "data = {\n",
    "    'stm': 1696402201447\n",
    "}\n",
    "\n",
    "# 发送POST请求\n",
    "response = requests.post(url, data=data)\n",
    "\n",
    "# 检查响应\n",
    "if response.status_code == 200:\n",
    "    print('请求成功')\n",
    "    print(response.text)  # 打印响应内容\n",
    "else:\n",
    "    print('请求失败')\n",
    "    print('响应代码:', response.status_code)\n"
   ]
  },
  {
   "cell_type": "code",
   "execution_count": 6,
   "metadata": {},
   "outputs": [
    {
     "data": {
      "text/plain": [
       "''"
      ]
     },
     "execution_count": 6,
     "metadata": {},
     "output_type": "execute_result"
    }
   ],
   "source": [
    "response.text"
   ]
  },
  {
   "cell_type": "code",
   "execution_count": null,
   "metadata": {},
   "outputs": [],
   "source": [
    "# //div[@class=\"a-aminer-p-rankings-components-ai2000_right_list-index-newScholarCard\"]"
   ]
  }
 ],
 "metadata": {
  "kernelspec": {
   "display_name": "scrapy",
   "language": "python",
   "name": "python3"
  },
  "language_info": {
   "codemirror_mode": {
    "name": "ipython",
    "version": 3
   },
   "file_extension": ".py",
   "mimetype": "text/x-python",
   "name": "python",
   "nbconvert_exporter": "python",
   "pygments_lexer": "ipython3",
   "version": "3.7.13"
  },
  "orig_nbformat": 4
 },
 "nbformat": 4,
 "nbformat_minor": 2
}
