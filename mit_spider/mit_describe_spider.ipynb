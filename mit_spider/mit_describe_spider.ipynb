{
 "cells": [
  {
   "cell_type": "markdown",
   "metadata": {},
   "source": [
    "### 设置代理"
   ]
  },
  {
   "cell_type": "code",
   "execution_count": null,
   "metadata": {},
   "outputs": [],
   "source": [
    "import pandas as pd\n",
    "import requests\n",
    "import os\n",
    "os.environ[\"http_proxy\"] = \"http://127.0.0.1:7890\"\n",
    "os.environ[\"https_proxy\"] = \"http://127.0.0.1:7890\""
   ]
  },
  {
   "cell_type": "code",
   "execution_count": 2,
   "metadata": {},
   "outputs": [],
   "source": [
    "# https://apii.mittrchina.com/information/index?page=9&limit=4&author=&type=&label=&is_ad=true"
   ]
  },
  {
   "cell_type": "markdown",
   "metadata": {},
   "source": [
    "### 爬虫主程序"
   ]
  },
  {
   "cell_type": "code",
   "execution_count": 3,
   "metadata": {},
   "outputs": [
    {
     "name": "stderr",
     "output_type": "stream",
     "text": [
      "100%|██████████| 100/100 [12:36<00:00,  7.57s/it]\n"
     ]
    }
   ],
   "source": [
    "import requests\n",
    "from fake_useragent import UserAgent\n",
    "import json\n",
    "import pandas as pd\n",
    "from tqdm import tqdm\n",
    "import time \n",
    "\n",
    "# Create a UserAgent object\n",
    "user_agent = UserAgent()\n",
    "\n",
    "# Initialize an empty DataFrame to store the results\n",
    "result_list = []\n",
    "\n",
    "# Set the number of pages to request\n",
    "num_pages = 100  # You can change this to the desired number of pages\n",
    "\n",
    "# Define the base URL\n",
    "base_url = 'https://apii.mittrchina.com/information/index'\n",
    "\n",
    "# Loop through the desired number of pages\n",
    "for page in tqdm(range(1, num_pages + 1)):\n",
    "    # Set the parameters for the request\n",
    "    params = {\n",
    "        'page': page,\n",
    "        'limit': 10,\n",
    "        'author': '',\n",
    "        'type': '',\n",
    "        'label': '',\n",
    "        'is_ad': 'true'\n",
    "    }\n",
    "\n",
    "    # Set the request headers with a random User-Agent\n",
    "    headers = {\n",
    "        'User-Agent': user_agent.random,\n",
    "    }\n",
    "\n",
    "    # Send an HTTP GET request\n",
    "    time.sleep(5)\n",
    "    response = requests.get(base_url, params=params, headers=headers)\n",
    "\n",
    "    # Check the response status code\n",
    "    if response.status_code == 200:\n",
    "        # Parse the JSON response\n",
    "        data_json = response.json()\n",
    "        if 'data' in data_json and 'items' in data_json['data']:\n",
    "            # Extract the items and create a DataFrame\n",
    "            page_df = pd.DataFrame(data_json['data']['items'])\n",
    "            \n",
    "            # Append the DataFrame to the result_df\n",
    "            result_list.append(page_df)\n",
    "        else:\n",
    "            print(f\"No 'data' or 'items' found in the response for page {page}\")\n",
    "    else:\n",
    "        print(f\"Request failed for page {page}, status code: {response.status_code}\")\n",
    "\n",
    "    rawdata = pd.concat(result_list, ignore_index=True)\n",
    "    rawdata.drop_duplicates(\"id\")\n",
    "    rawdata.to_excel(\"mit_describe_item.xlsx\",index=False,encoding=\"utf_8_sig\")"
   ]
  },
  {
   "cell_type": "markdown",
   "metadata": {},
   "source": [
    "### 解析程序"
   ]
  },
  {
   "cell_type": "code",
   "execution_count": 4,
   "metadata": {},
   "outputs": [],
   "source": [
    "rawdata = pd.concat(result_list, ignore_index=True)\n",
    "rawdata.drop_duplicates(\"id\")\n",
    "rawdata.to_excel(\"mit_describe_item.xlsx\",index=False,encoding=\"utf_8_sig\")\n",
    "rawdata"
   ]
  }
 ],
 "metadata": {
  "kernelspec": {
   "display_name": "scrapy",
   "language": "python",
   "name": "python3"
  },
  "language_info": {
   "codemirror_mode": {
    "name": "ipython",
    "version": 3
   },
   "file_extension": ".py",
   "mimetype": "text/x-python",
   "name": "python",
   "nbconvert_exporter": "python",
   "pygments_lexer": "ipython3",
   "version": "3.7.15"
  },
  "orig_nbformat": 4
 },
 "nbformat": 4,
 "nbformat_minor": 2
}
