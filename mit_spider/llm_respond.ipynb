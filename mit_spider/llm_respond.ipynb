{
 "cells": [
  {
   "cell_type": "markdown",
   "metadata": {},
   "source": [
    "#### 导入库"
   ]
  },
  {
   "cell_type": "code",
   "execution_count": 1,
   "metadata": {},
   "outputs": [],
   "source": [
    "from langchain.document_loaders import UnstructuredFileLoader\n",
    "from langchain.text_splitter import RecursiveCharacterTextSplitter\n",
    "from langchain.embeddings.huggingface import HuggingFaceEmbeddings\n",
    "from langchain.vectorstores import FAISS\n",
    "from langchain.embeddings import HuggingFaceEmbeddings\n",
    "from langchain.vectorstores import Chroma\n",
    "import chromadb\n",
    "from langchain.output_parsers import StructuredOutputParser, ResponseSchema\n",
    "from langchain.prompts import PromptTemplate, ChatPromptTemplate, HumanMessagePromptTemplate\n",
    "from langchain.llms import OpenAI\n",
    "from langchain.chat_models import ChatOpenAI\n",
    "import os\n",
    "import sys\n",
    "import pandas as pd\n",
    "os.environ ['CUDA_VISIBLE_DEVICES'] = \"1\""
   ]
  },
  {
   "cell_type": "markdown",
   "metadata": {},
   "source": [
    "#### 文档加载&切分&检索"
   ]
  },
  {
   "cell_type": "code",
   "execution_count": 2,
   "metadata": {},
   "outputs": [
    {
     "data": {
      "text/plain": [
       "{'标题': '人类有望在太空生孩子？荷兰公司将把实验室送入近地轨道并进行体外受精',\n",
       " '简介': '迄今为止，还没有人在太空中怀孕。但随着太空旅游的兴起，它很可能最终在某一天发生。',\n",
       " '文章类别': '太空',\n",
       " '文章内容': '是否有可能在太空生孩子？荷兰企业家埃格伯特·埃德布鲁克（Egbert Edelbroek）第一次产生这种想法时，正在捐献精子。埃德布鲁克对被捐赠精子的各种使用方式感到好奇，他开始思考体外受精技术在地球之外是否可行，甚至是否可以借助太空的条件得到改善。太空的失重状态会比实验室培养皿更合适吗？现在，埃德布鲁克是 SpaceBorn United 的 CEO，这是一家生物技术初创公司，旨在开创人类在地球以外繁衍的研究。2024 年，他计划用火箭将一个小型实验室送入近地轨道，并在那里进行体外受精。如果成功，埃德布鲁克希望他的工作能为未来人类建设太空定居点铺平道路。“人类需要一个后备计划，”他说，“如果你想成为一个可持续发展的物种，就要成为多行星物种（multiplanetary species）。”除了未来的太空殖民地，我们还迫切需要了解太空对人类生殖系统的影响。迄今为止，还没有人在太空中怀孕。但随着太空旅游的兴起，它很可能最终在某一天发生。埃德布鲁克认为，我们应该做好准备。尽管埃隆·马斯克（Elon Musk）和杰夫·贝佐斯（Jeff Bezos）在美国国家科学、工程和医学院 9 月发布的一份报告中指出，我们几乎没有对人类在太空中的繁殖进行过研究。并补充说，“我们对太空如何影响繁殖的理解对长期太空探索至关重要，但迄今为止，该方向的研究基本为零。”一些对动物的研究表明，繁殖的各个阶段，从交配和受精到胚胎发育、着床、怀孕和出生，都可以在太空中正常“运作”。例如，1994 年，在第一次相关实验中，八条日本青鳉在哥伦比亚号航天飞机上从卵发育成幼鱼。八条鱼都在返回地球后幸存下来，并且似乎一切正常。循序渐进然而，其他研究也发现了潜在问题的证据。1983 年，怀孕的老鼠在苏联卫星上度过了孕晚期的大部分时间，总共五天，在分娩和分娩过程中出现了并发症。和所有返回地球的宇航员一样，老鼠们疲惫不堪，身体虚弱。它们的分娩持续时间比平时长，可能是因为子宫肌肉萎缩。其中，一窝幼崽全部在分娩过程中死亡，这被认为是由于母亲的虚弱状态造成的。对埃德布鲁克来说，这些不确定的结果表明，需要系统地独立（和研究）生殖过程中的每一步，以便更好地了解它是如何受到较低重力和较高辐射暴露等条件的影响的。他公司开发的迷你实验室正是为了实现这一点。迷你实验室大约有鞋盒大小，使用微流体将含有精子的腔室连接到含有卵子的腔室。它还能够以不同的速度旋转，以复制地球、月球或火星的引力环境。它足够小，可以放在位于火箭顶部的太空舱里，并发射到太空。卵子在装置中受精后，分裂成两个细胞，每个细胞再次分裂，形成四个细胞，以此类推。五到六天后，胚胎达到胚泡阶段，看起来像一个空心球。此时，迷你实验室中的胚胎将被低温冷冻，以便带回地球。但首先，SpaceBorn United 需要证明该设备可以在太空中工作。埃德布鲁克在今年 3 月的 SXSW 音乐节上宣布了他的测试计划。他告诉观众：“我们已经完成了第一个原型，计划在六个月内搭载火箭，飞上太空。”结果证明这过于乐观。在 8 月 SpaceBorn United 咨询委员会的 Zoom 会议上，埃德布鲁克解释说，一家签约在冰岛进行发射的公司尚未获得必要的发射许可。埃德布鲁克决定取消亚轨道测试，现在的目标是一个更高的目标，与德国初创公司 Atmos Space Cargo 一起对该设备进行三小时的轨道测试，暂定于 2024 年 11 月进行。“在游客真的在太空里怀孕之前，你想先在培养皿中了解这个过程。”如果能够完成这项测试，SpaceBorn United 公司计划在其被称为 ARTIS（太空辅助生殖技术）的任务计划之后继续进行额外的试飞。正如其网站上所述，ARTIS 的前几次任务将涉及啮齿动物胚胎在太空中受精，其模拟重力相当于地球上的重力。接下来，在太空中形成的并被低温冷冻的胚胎将被带回地球，植入到雌性啮齿动物体内。如果这能产生健康的幼崽，那么稍后的 ARTIS 任务将包括在类似地球的重力下受精的人类胚胎，最终测试在月球或火星的重力下受精。埃德布鲁克认为，如果这些实验表明人类胚胎可以在低重力条件下形成，这将是证明多代人太空定居可行性的重大进展。生物学家凯莉·韦纳史密斯（Kelly Weinersmith）说：“我觉得我们肯定需要进行这种研究。”她与人合著了一本关于太空定居的书，名为《火星上的城市》。她说：“我确实认为，作为备用计划，让人类成为多行星物种是值得的，但我们需要慢慢来。”埃德布鲁克也认为，这项研究的需求更加迫切。随着进入太空的机会越来越多，特别是随着太空旅游业的发展，在太空中孕育婴儿的可能性越来越大，无论是有意还是无意的。目前，人们对太空怀孕如何影响母亲或未出生的胎儿知之甚少。埃德布鲁克认为，人类迫切需要其公司的试管婴儿研究，来帮助告知此类风险。图丨埃德布鲁克在 SXSW 音乐节上宣布了他的计划（来源：Scott Solomon）韦纳史密斯对此表示赞同。她说：“在游客在太空怀孕之前，你想在培养皿中了解这些东西。”目前，SpaceBorn United 是为数不多的致力于太空繁殖的研究小组之一，这在很大程度上是因为用于这项研究的公共资金很少。美国国家航空航天局、欧洲航天局和其他政府组织历来不愿资助和支持有关性和人类生殖的研究。贝勒医学院太空医学副教授、美国国家航空航天局人类研究项目顾问埃里克·安东森（Erik Antonsen）看到了另一个障碍：历史上用于太空医学研究的资金相对较少。他说：“美国国家航空航天局的人类研究项目……全部预算大约为 1.3 亿美元，这什么都干不了，而这是这个领域一流的研究小组和资金。”需要更多资金美国国家科学院的报告可能会改变这种情况。其中一项建议是，将生物和物理科学的资金增加十倍，包括生殖研究。根据该报告编纂小组的联席主席罗伯特·菲尔（Robert Ferl）的说法，这项研究应该包括对从植物到人的各种不同生物繁殖的研究，因为许多基本的生物学原理是相同的。他说：“我们必须知道几代人会发生什么，因为无论是什么生物体，当卵子、精子和新受精卵出现时，它们何时开始生长和发育，都有一些基本过程。”但不能保证报告中建议的资金会到位。与此同时，SpaceBorn United 正在推进在近地轨道测试试管婴儿实验室的计划。安东森说：“如果它能获得资金，这将是一个很棒的实验。”埃德布鲁克说，到目前为止，他已经从风险投资家那里筹集了 40 万美元，并组建了一个包括生育专家和工程师在内的咨询委员会。但筹集到的任何资金都将在年底前花掉，他现在必须筹集足够的资金，来进行明年计划中的第一次轨道测试。对于额外的资金是否能到位，印第安纳大学研究太空飞行对啮齿动物影响的教授杰尼弗·阿尔伯特（Jeffrey Alberts）对此持乐观态度。他说：“我得出了一个普遍的结论，即（太空中的）受精可能会奏效。”然而，即使受精成功，胚胎仍必须返回地球。贝勒医学院空间健康转化研究所所长多丽特·多诺维尔（Dorit Donoviel）对此感到担忧。她说：“这些胚泡将经历极大的 G 力（重力加速度）。”玛丽塔·弗雷兹（Marta Ferraz）是 SpaceBorn United 的研究和任务设计负责人，她承认这是一个挑战。“重返大气层在技术上是一个非常困难的过程，”她说。SpaceBorn United&nbsp;最近开始测试其原型，以测量样本将受到的力。最近一次高空坠落测试的结果仍不明确，但该团队相信该设备可以足够稳定，以最大限度地减少对胚胎的影响。这些信息对于获得使用活胚胎的批准至关重要。审批过程还需要获得发射公司所在国的许可，而获得许可的方式因进行研究的实体是公共还是私人而异。多诺维尔认为，这是一个需要修补的漏洞。她是最近发表在《科学》杂志上的一篇观点论文的 25 位合著者之一，该论文主张为商业航天行业的研究制定更严格和一致的指导方针。他们表示，“公司应发布政策并制定最佳实践，以确保赞助研究以对社会负责和合乎道德的方式进行。”多诺维尔特别关注的是 SpaceBorn United 利用人类胚胎在太空进行试管婴儿实验的长期计划。多诺维尔认为这是不道德的，并担心这可能会使公众舆论反对所有类型的太空研究。她说：“这给我们整个行业和领域带来了负面影响，所以我非常反对这项工作。”埃德布鲁克认为，他的公司非常重视道德问题。他告诉我，它最近增加了两名专门研究生物医学伦理的顾问。他补充说，尽管&nbsp;SpaceBorn United&nbsp;是一家私人资助的公司，但在申请使用人类胚胎的许可时，它会遵循所有国际公认的法律和道德标准。但是，生殖实验并不一定需要涉及人类样本。杰尼弗·阿尔伯特（Jeffrey Alberts）希望看到像老鼠这样的动物在太空中出生，在那里度过一生，并繁衍后代。这样的实验从未进行过，这将是对太空中生命是否存在多代影响的决定性测试，美国国家科学院的报告强调了这一悬而未决的问题。这些研究的结果将揭示人类太空定居点能否成为现实。但对埃德布鲁克来说，对动物的多代研究从未获得批准，这是他公司存在的理由。虽然他从事的研究可能会让一些人感到不舒服，但他认为取得突破很重要。“人类的进步得益于舒适区的扩张，”他说，“如果你问我怎么看，我认为应该继续在太空中做这样的事。”作者简介：斯科特·所罗门是一位生物学家和科学传播者。他在美国莱斯大学教授生态学和进化生物学。他是播客《与斯科特·所罗门的狂野世界》的主持人，著有《未来人类：我们持续进化的科学内幕》，以及即将为麻省理工学院出版社出版的一本关于太空生活将如何影响人类身心的书。支持：Ren'}"
      ]
     },
     "execution_count": 2,
     "metadata": {},
     "output_type": "execute_result"
    }
   ],
   "source": [
    "mit_info = pd.read_excel(\"./mit_structure_info.xlsx\")\n",
    "item = mit_info.iloc[0].to_dict()\n",
    "item.pop(\"id\")\n",
    "item = {\n",
    "    '标题': item['name'],\n",
    "    '简介': item['summary'],\n",
    "    '文章类别': item['typeName'],\n",
    "    '文章内容': item['content']\n",
    "}\n",
    "item"
   ]
  },
  {
   "cell_type": "code",
   "execution_count": 3,
   "metadata": {},
   "outputs": [
    {
     "data": {
      "text/html": [
       "<div>\n",
       "<style scoped>\n",
       "    .dataframe tbody tr th:only-of-type {\n",
       "        vertical-align: middle;\n",
       "    }\n",
       "\n",
       "    .dataframe tbody tr th {\n",
       "        vertical-align: top;\n",
       "    }\n",
       "\n",
       "    .dataframe thead th {\n",
       "        text-align: right;\n",
       "    }\n",
       "</style>\n",
       "<table border=\"1\" class=\"dataframe\">\n",
       "  <thead>\n",
       "    <tr style=\"text-align: right;\">\n",
       "      <th></th>\n",
       "      <th>id</th>\n",
       "      <th>name</th>\n",
       "      <th>summary</th>\n",
       "      <th>typeName</th>\n",
       "      <th>content</th>\n",
       "    </tr>\n",
       "  </thead>\n",
       "  <tbody>\n",
       "    <tr>\n",
       "      <th>0</th>\n",
       "      <td>12575</td>\n",
       "      <td>人类有望在太空生孩子？荷兰公司将把实验室送入近地轨道并进行体外受精</td>\n",
       "      <td>迄今为止，还没有人在太空中怀孕。但随着太空旅游的兴起，它很可能最终在某一天发生。</td>\n",
       "      <td>太空</td>\n",
       "      <td>是否有可能在太空生孩子？荷兰企业家埃格伯特·埃德布鲁克（Egbert Edelbroek）第...</td>\n",
       "    </tr>\n",
       "    <tr>\n",
       "      <th>1</th>\n",
       "      <td>12573</td>\n",
       "      <td>一篇你不能错过的科普|关于阿秒</td>\n",
       "      <td>阿秒仅仅为10-18秒，如果说光从地球跑到月球的时间大约需要1秒，而在1阿秒时间内，光只能传...</td>\n",
       "      <td>科技</td>\n",
       "      <td>NaN</td>\n",
       "    </tr>\n",
       "    <tr>\n",
       "      <th>2</th>\n",
       "      <td>12572</td>\n",
       "      <td>科学家开发纳米加热技术，将器官冷冻保存期延长至100天</td>\n",
       "      <td>手术完成以后，当他看到大鼠的尿液掉落时非常激动，这说明肾能够正常工作，移植手术成功了。</td>\n",
       "      <td>生物医学</td>\n",
       "      <td>“论文的共同一作是一名医生，他来帮我们给大鼠做肾脏移植手术。手术完成以后，当他看到大鼠的尿液...</td>\n",
       "    </tr>\n",
       "    <tr>\n",
       "      <th>3</th>\n",
       "      <td>12571</td>\n",
       "      <td>美国每6.5分钟就有一人死于阿片药物过量，三年以来致死人数翻两番</td>\n",
       "      <td>它们与大脑和脊髓中的受体结合，引发一系列有助于阻断疼痛信号的反应。处方阿片类药物在某些情况下...</td>\n",
       "      <td>生物医学</td>\n",
       "      <td>本周，我一直在思考美国人的阿片类药物成瘾问题。统计数字令人震惊。自 2010 年以来，在美国...</td>\n",
       "    </tr>\n",
       "    <tr>\n",
       "      <th>4</th>\n",
       "      <td>12570</td>\n",
       "      <td>科学家解析光合玫瑰菌反应中心-捕光复合体结构，助推原核生物光合作用元件研究</td>\n",
       "      <td>他们也发现了类胡萝卜素组装调节反应中心-捕光复合体结构和醌交换的分子机制。</td>\n",
       "      <td>生物科技</td>\n",
       "      <td>“这些高分辨率的结构，清晰地揭示了光合玫瑰菌反应中心-捕光复合体（Reaction cent...</td>\n",
       "    </tr>\n",
       "    <tr>\n",
       "      <th>...</th>\n",
       "      <td>...</td>\n",
       "      <td>...</td>\n",
       "      <td>...</td>\n",
       "      <td>...</td>\n",
       "      <td>...</td>\n",
       "    </tr>\n",
       "    <tr>\n",
       "      <th>995</th>\n",
       "      <td>11560</td>\n",
       "      <td>​鲁汶大学中国学者发明超高性能混合基质膜，性能超越纯沸石膜</td>\n",
       "      <td>在人类的各项工业生产活动中，化学品分离过程的能源消耗极大，占据全球能源消费总量的 15%，而...</td>\n",
       "      <td>化学</td>\n",
       "      <td>NaN</td>\n",
       "    </tr>\n",
       "    <tr>\n",
       "      <th>996</th>\n",
       "      <td>11559</td>\n",
       "      <td>有人用ChatGPT作弊和替考，OpenAI或考虑给AI内容加水印</td>\n",
       "      <td>在人工智能生成的文本中，我们或许可以找到一些隐藏在字里行间的蛛丝马迹。如果有方法可以识别出来...</td>\n",
       "      <td>AI</td>\n",
       "      <td>NaN</td>\n",
       "    </tr>\n",
       "    <tr>\n",
       "      <th>997</th>\n",
       "      <td>11558</td>\n",
       "      <td>“冷门”方向坚持30余年，川大王玉忠院士团队研发聚合物燃烧分析系统，造出温光双响应的火灾探测器</td>\n",
       "      <td>2021 年 6 月 17 日，是付腾至今难以忘记的一天。那天，在中国传统村落最多的地级行政...</td>\n",
       "      <td>物理</td>\n",
       "      <td>NaN</td>\n",
       "    </tr>\n",
       "    <tr>\n",
       "      <th>998</th>\n",
       "      <td>11556</td>\n",
       "      <td>发光效率达5.12%：科学家实现有机金属卤化物的高效电致发光</td>\n",
       "      <td>在现代生活中，电致发光二极管有着广阔的应用比如显示和照明等。各类发光材料包括外延生长无机半导...</td>\n",
       "      <td>物理</td>\n",
       "      <td>NaN</td>\n",
       "    </tr>\n",
       "    <tr>\n",
       "      <th>999</th>\n",
       "      <td>11555</td>\n",
       "      <td>加速千行百业云数智转型，英特尔推出新一代至强可扩展处理器和Max系列产品家族</td>\n",
       "      <td>为生态伙伴持续赋能，助力产业向纵深发展。</td>\n",
       "      <td>DeepTech</td>\n",
       "      <td>NaN</td>\n",
       "    </tr>\n",
       "  </tbody>\n",
       "</table>\n",
       "<p>1000 rows × 5 columns</p>\n",
       "</div>"
      ],
      "text/plain": [
       "        id                                             name  \\\n",
       "0    12575                人类有望在太空生孩子？荷兰公司将把实验室送入近地轨道并进行体外受精   \n",
       "1    12573                                  一篇你不能错过的科普|关于阿秒   \n",
       "2    12572                      科学家开发纳米加热技术，将器官冷冻保存期延长至100天   \n",
       "3    12571                 美国每6.5分钟就有一人死于阿片药物过量，三年以来致死人数翻两番   \n",
       "4    12570            科学家解析光合玫瑰菌反应中心-捕光复合体结构，助推原核生物光合作用元件研究   \n",
       "..     ...                                              ...   \n",
       "995  11560                    ​鲁汶大学中国学者发明超高性能混合基质膜，性能超越纯沸石膜   \n",
       "996  11559                有人用ChatGPT作弊和替考，OpenAI或考虑给AI内容加水印   \n",
       "997  11558  “冷门”方向坚持30余年，川大王玉忠院士团队研发聚合物燃烧分析系统，造出温光双响应的火灾探测器   \n",
       "998  11556                   发光效率达5.12%：科学家实现有机金属卤化物的高效电致发光   \n",
       "999  11555           加速千行百业云数智转型，英特尔推出新一代至强可扩展处理器和Max系列产品家族   \n",
       "\n",
       "                                               summary  typeName  \\\n",
       "0             迄今为止，还没有人在太空中怀孕。但随着太空旅游的兴起，它很可能最终在某一天发生。        太空   \n",
       "1    阿秒仅仅为10-18秒，如果说光从地球跑到月球的时间大约需要1秒，而在1阿秒时间内，光只能传...        科技   \n",
       "2          手术完成以后，当他看到大鼠的尿液掉落时非常激动，这说明肾能够正常工作，移植手术成功了。      生物医学   \n",
       "3    它们与大脑和脊髓中的受体结合，引发一系列有助于阻断疼痛信号的反应。处方阿片类药物在某些情况下...      生物医学   \n",
       "4                他们也发现了类胡萝卜素组装调节反应中心-捕光复合体结构和醌交换的分子机制。      生物科技   \n",
       "..                                                 ...       ...   \n",
       "995  在人类的各项工业生产活动中，化学品分离过程的能源消耗极大，占据全球能源消费总量的 15%，而...        化学   \n",
       "996  在人工智能生成的文本中，我们或许可以找到一些隐藏在字里行间的蛛丝马迹。如果有方法可以识别出来...        AI   \n",
       "997  2021 年 6 月 17 日，是付腾至今难以忘记的一天。那天，在中国传统村落最多的地级行政...        物理   \n",
       "998  在现代生活中，电致发光二极管有着广阔的应用比如显示和照明等。各类发光材料包括外延生长无机半导...        物理   \n",
       "999                               为生态伙伴持续赋能，助力产业向纵深发展。  DeepTech   \n",
       "\n",
       "                                               content  \n",
       "0    是否有可能在太空生孩子？荷兰企业家埃格伯特·埃德布鲁克（Egbert Edelbroek）第...  \n",
       "1                                                  NaN  \n",
       "2    “论文的共同一作是一名医生，他来帮我们给大鼠做肾脏移植手术。手术完成以后，当他看到大鼠的尿液...  \n",
       "3    本周，我一直在思考美国人的阿片类药物成瘾问题。统计数字令人震惊。自 2010 年以来，在美国...  \n",
       "4    “这些高分辨率的结构，清晰地揭示了光合玫瑰菌反应中心-捕光复合体（Reaction cent...  \n",
       "..                                                 ...  \n",
       "995                                                NaN  \n",
       "996                                                NaN  \n",
       "997                                                NaN  \n",
       "998                                                NaN  \n",
       "999                                                NaN  \n",
       "\n",
       "[1000 rows x 5 columns]"
      ]
     },
     "execution_count": 3,
     "metadata": {},
     "output_type": "execute_result"
    }
   ],
   "source": [
    "mit_info"
   ]
  },
  {
   "cell_type": "code",
   "execution_count": 4,
   "metadata": {},
   "outputs": [],
   "source": [
    "sys.path.append(os.path.dirname(os.path.realpath('__file__'))+\"/../../\")\n",
    "import config.conf as cfg\n",
    "from chromadb.config import Settings\n",
    "\n",
    "replace_str = \"/spider/mit_spider\"\n",
    "\n",
    "# Define the folder for storing database\n",
    "PERSIST_DIRECTORY = cfg.PERSIST_DIRECTORY.replace(replace_str,\"\")\n",
    "# Define the Chroma settings\n",
    "CHROMA_SETTINGS = Settings(\n",
    "        persist_directory=PERSIST_DIRECTORY,\n",
    "        anonymized_telemetry=False\n",
    ")\n",
    "\n",
    "embeddings_model_name = cfg.EMBEDDINGS_MODEL_NAME.replace(replace_str,\"\")\n",
    "persist_directory = cfg.PERSIST_DIRECTORY.replace(replace_str,\"\")\n",
    "model_path = cfg.MODEL_PATH.replace(replace_str,\"\")\n",
    "model_n_ctx = cfg.MODEL_N_CTX\n",
    "model_n_batch = cfg.MODEL_N_BATCH\n",
    "target_source_chunks = 4\n",
    "embeddings = HuggingFaceEmbeddings(model_name=embeddings_model_name)\n",
    "chroma_client = chromadb.PersistentClient(settings=CHROMA_SETTINGS , path=persist_directory)\n",
    "db = Chroma(persist_directory=persist_directory, embedding_function=embeddings, client_settings=CHROMA_SETTINGS, client=chroma_client)"
   ]
  },
  {
   "cell_type": "code",
   "execution_count": 5,
   "metadata": {},
   "outputs": [
    {
     "data": {
      "text/plain": [
       "'/home/linjw/AGI/llama2/spider/mit_spider/checkpoints/paraphrase-multilingual-MiniLM-L12-v2'"
      ]
     },
     "execution_count": 5,
     "metadata": {},
     "output_type": "execute_result"
    }
   ],
   "source": [
    "cfg.EMBEDDINGS_MODEL_NAME"
   ]
  },
  {
   "cell_type": "markdown",
   "metadata": {},
   "source": [
    "#### 加载模型"
   ]
  },
  {
   "cell_type": "code",
   "execution_count": 6,
   "metadata": {},
   "outputs": [
    {
     "data": {
      "application/vnd.jupyter.widget-view+json": {
       "model_id": "34cec161d2fe451eb240fbec2a66bcc4",
       "version_major": 2,
       "version_minor": 0
      },
      "text/plain": [
       "Loading checkpoint shards:   0%|          | 0/3 [00:00<?, ?it/s]"
      ]
     },
     "metadata": {},
     "output_type": "display_data"
    },
    {
     "name": "stderr",
     "output_type": "stream",
     "text": [
      "/home/linjw/anaconda3/envs/llama/lib/python3.10/site-packages/transformers/generation/configuration_utils.py:362: UserWarning: `do_sample` is set to `False`. However, `temperature` is set to `0.9` -- this flag is only used in sample-based generation modes. You should set `do_sample=True` or unset `temperature`. This was detected when initializing the generation config instance, which means the corresponding file may hold incorrect parameterization and should be fixed.\n",
      "  warnings.warn(\n",
      "/home/linjw/anaconda3/envs/llama/lib/python3.10/site-packages/transformers/generation/configuration_utils.py:367: UserWarning: `do_sample` is set to `False`. However, `top_p` is set to `0.6` -- this flag is only used in sample-based generation modes. You should set `do_sample=True` or unset `top_p`. This was detected when initializing the generation config instance, which means the corresponding file may hold incorrect parameterization and should be fixed.\n",
      "  warnings.warn(\n"
     ]
    }
   ],
   "source": [
    "from langchain.chains import RetrievalQA\n",
    "from langchain.embeddings.huggingface import HuggingFaceEmbeddings\n",
    "from langchain import HuggingFacePipeline\n",
    "embeddings = HuggingFaceEmbeddings(model_name=embeddings_model_name)\n",
    "model = HuggingFacePipeline.from_model_id(model_id=model_path,\n",
    "        task=\"text-generation\",\n",
    "        device=0,\n",
    "        pipeline_kwargs={\n",
    "            \"max_new_tokens\": 16384, \n",
    "            \"do_sample\": True,\n",
    "            \"temperature\": 0.2,\n",
    "            \"top_k\": 50,\n",
    "            \"top_p\": 0.9,\n",
    "            \"repetition_penalty\": 1.1},\n",
    "        model_kwargs={\n",
    "            \"torch_dtype\": \"auto\",\n",
    "            \"low_cpu_mem_usage\": True}\n",
    "        )"
   ]
  },
  {
   "cell_type": "markdown",
   "metadata": {},
   "source": [
    "#### 回答模板"
   ]
  },
  {
   "cell_type": "code",
   "execution_count": 7,
   "metadata": {},
   "outputs": [
    {
     "data": {
      "text/plain": [
       "\"{'标题': '人类有望在太空生孩子？荷兰公司将把实验室送入近地轨道并进行体外受精', '简介': '迄今为止，还没有人在太空中怀孕。但随着太空旅游的兴起，它很可能最终在某一天发生。', '文章类别': '太空', '文章内容': '是否有可能在太空生孩子？荷兰企业家埃格伯特·埃德布鲁克（Egbert Edelbroek）第一次产生这种想法时，正在捐献精子。埃德布鲁克对被捐赠精子的各种使用方式感到好奇，他开始思考体外受精技术在地球之外是否可行，甚至是否可以借助太空的条件得到改善。太空的失重状态会比实验室培养皿更合适吗？现在，埃德布鲁克是 SpaceBorn United 的 CEO，这是一家生物技术初创公司，旨在开创人类在地球以外繁衍的研究。2024 年，他计划用火箭将一个小型实验室送入近地轨道，并在那里进行体外受精。如果成功，埃德布鲁克希望他的工作能为未来人类建设太空定居点铺平道路。“人类需要一个后备计划，”他说，“如果你想成为一个可持续发展的物种，就要成为多行星物种（multiplanetary species）。”除了未来的太空殖民地，我们还迫切需要了解太空对人类生殖系统的影响。迄今为止，还没有人在太空中怀孕。但随着太空旅游的兴起，它很可能最终在某一天发生。埃德布鲁克认为，我们应该做好准备。尽管埃隆·马斯克（Elon Musk）和杰夫·贝佐斯（Jeff Bezos）在美国国家科学、工程和医学院 9 月发布的一份报告中指出，我们几乎没有对人类在太空中的繁殖进行过研究。并补充说，“我们对太空如何影响繁殖的理解对长期太空探索至关重要，但迄今为止，该方向的研究基本为零。”一些对动物的研究表明，繁殖的各个阶段，从交配和受精到胚胎发育、着床、怀孕和出生，都可以在太空中正常“运作”。例如，1994 年，在第一次相关实验中，八条日本青鳉在哥伦比亚号航天飞机上从卵发育成幼鱼。八条鱼都在返回地球后幸存下来，并且似乎一切正常。循序渐进然而，其他研究也发现了潜在问题的证据。1983 年，怀孕的老鼠在苏联卫星上度过了孕晚期的大部分时间，总共五天，在分娩和分娩过程中出现了并发症。和所有返回地球的宇航员一样，老鼠们疲惫不堪，身体虚弱。它们的分娩持续时间比平时长，可能是因为子宫肌肉萎缩。其中，一窝幼崽全部在分娩过程中死亡，这被认为是由于母亲的虚弱状态造成的。对埃德布鲁克来说，这些不确定的结果表明，需要系统地独立（和研究）生殖过程中的每一步，以便更好地了解它是如何受到较低重力和较高辐射暴露等条件的影响的。他公司开发的迷你实验室正是为了实现这一点。迷你实验室大约有鞋盒大小，使用微流体将含有精子的腔室连接到含有卵子的腔室。它还能够以不同的速度旋转，以复制地球、月球或火星的引力环境。它足够小，可以放在位于火箭顶部的太空舱里，并发射到太空。卵子在装置中受精后，分裂成两个细胞，每个细胞再次分裂，形成四个细胞，以此类推。五到六天后，胚胎达到胚泡阶段，看起来像一个空心球。此时，迷你实验室中的胚胎将被低温冷冻，以便带回地球。但首先，SpaceBorn United 需要证明该设备可以在太空中工作。埃德布鲁克在今年 3 月的 SXSW 音乐节上宣布了他的测试计划。他告诉观众：“我们已经完成了第一个原型，计划在六个月内搭载火箭，飞上太空。”结果证明这过于乐观。在 8 月 SpaceBorn United 咨询委员会的 Zoom 会议上，埃德布鲁克解释说，一家签约在冰岛进行发射的公司尚未获得必要的发射许可。埃德布鲁克决定取消亚轨道测试，现在的目标是一个更高的目标，与德国初创公司 Atmos Space Cargo 一起对该设备进行三小时的轨道测试，暂定于 2024 年 11 月进行。“在游客真的在太空里怀孕之前，你想先在培养皿中了解这个过程。”如果能够完成这项测试，SpaceBorn United 公司计划在其被称为 ARTIS（太空辅助生殖技术）的任务计划之后继续进行额外的试飞。正如其网站上所述，ARTIS 的前几次任务将涉及啮齿动物胚胎在太空中受精，其模拟重力相当于地球上的重力。接下来，在太空中形成的并被低温冷冻的胚胎将被带回地球，植入到雌性啮齿动物体内。如果这能产生健康的幼崽，那么稍后的 ARTIS 任务将包括在类似地球的重力下受精的人类胚胎，最终测试在月球或火星的重力下受精。埃德布鲁克认为，如果这些实验表明人类胚胎可以在低重力条件下形成，这将是证明多代人太空定居可行性的重大进展。生物学家凯莉·韦纳史密斯（Kelly Weinersmith）说：“我觉得我们肯定需要进行这种研究。”她与人合著了一本关于太空定居的书，名为《火星上的城市》。她说：“我确实认为，作为备用计划，让人类成为多行星物种是值得的，但我们需要慢慢来。”埃德布鲁克也认为，这项研究的需求更加迫切。随着进入太空的机会越来越多，特别是随着太空旅游业的发展，在太空中孕育婴儿的可能性越来越大，无论是有意还是无意的。目前，人们对太空怀孕如何影响母亲或未出生的胎儿知之甚少。埃德布鲁克认为，人类迫切需要其公司的试管婴儿研究，来帮助告知此类风险。图丨埃德布鲁克在 SXSW 音乐节上宣布了他的计划（来源：Scott Solomon）韦纳史密斯对此表示赞同。她说：“在游客在太空怀孕之前，你想在培养皿中了解这些东西。”目前，SpaceBorn United 是为数不多的致力于太空繁殖的研究小组之一，这在很大程度上是因为用于这项研究的公共资金很少。美国国家航空航天局、欧洲航天局和其他政府组织历来不愿资助和支持有关性和人类生殖的研究。贝勒医学院太空医学副教授、美国国家航空航天局人类研究项目顾问埃里克·安东森（Erik Antonsen）看到了另一个障碍：历史上用于太空医学研究的资金相对较少。他说：“美国国家航空航天局的人类研究项目……全部预算大约为 1.3 亿美元，这什么都干不了，而这是这个领域一流的研究小组和资金。”需要更多资金美国国家科学院的报告可能会改变这种情况。其中一项建议是，将生物和物理科学的资金增加十倍，包括生殖研究。根据该报告编纂小组的联席主席罗伯特·菲尔（Robert Ferl）的说法，这项研究应该包括对从植物到人的各种不同生物繁殖的研究，因为许多基本的生物学原理是相同的。他说：“我们必须知道几代人会发生什么，因为无论是什么生物体，当卵子、精子和新受精卵出现时，它们何时开始生长和发育，都有一些基本过程。”但不能保证报告中建议的资金会到位。与此同时，SpaceBorn United 正在推进在近地轨道测试试管婴儿实验室的计划。安东森说：“如果它能获得资金，这将是一个很棒的实验。”埃德布鲁克说，到目前为止，他已经从风险投资家那里筹集了 40 万美元，并组建了一个包括生育专家和工程师在内的咨询委员会。但筹集到的任何资金都将在年底前花掉，他现在必须筹集足够的资金，来进行明年计划中的第一次轨道测试。对于额外的资金是否能到位，印第安纳大学研究太空飞行对啮齿动物影响的教授杰尼弗·阿尔伯特（Jeffrey Alberts）对此持乐观态度。他说：“我得出了一个普遍的结论，即（太空中的）受精可能会奏效。”然而，即使受精成功，胚胎仍必须返回地球。贝勒医学院空间健康转化研究所所长多丽特·多诺维尔（Dorit Donoviel）对此感到担忧。她说：“这些胚泡将经历极大的 G 力（重力加速度）。”玛丽塔·弗雷兹（Marta Ferraz）是 SpaceBorn United 的研究和任务设计负责人，她承认这是一个挑战。“重返大气层在技术上是一个非常困难的过程，”她说。SpaceBorn United&nbsp;最近开始测试其原型，以测量样本将受到的力。最近一次高空坠落测试的结果仍不明确，但该团队相信该设备可以足够稳定，以最大限度地减少对胚胎的影响。这些信息对于获得使用活胚胎的批准至关重要。审批过程还需要获得发射公司所在国的许可，而获得许可的方式因进行研究的实体是公共还是私人而异。多诺维尔认为，这是一个需要修补的漏洞。她是最近发表在《科学》杂志上的一篇观点论文的 25 位合著者之一，该论文主张为商业航天行业的研究制定更严格和一致的指导方针。他们表示，“公司应发布政策并制定最佳实践，以确保赞助研究以对社会负责和合乎道德的方式进行。”多诺维尔特别关注的是 SpaceBorn United 利用人类胚胎在太空进行试管婴儿实验的长期计划。多诺维尔认为这是不道德的，并担心这可能会使公众舆论反对所有类型的太空研究。她说：“这给我们整个行业和领域带来了负面影响，所以我非常反对这项工作。”埃德布鲁克认为，他的公司非常重视道德问题。他告诉我，它最近增加了两名专门研究生物医学伦理的顾问。他补充说，尽管&nbsp;SpaceBorn United&nbsp;是一家私人资助的公司，但在申请使用人类胚胎的许可时，它会遵循所有国际公认的法律和道德标准。但是，生殖实验并不一定需要涉及人类样本。杰尼弗·阿尔伯特（Jeffrey Alberts）希望看到像老鼠这样的动物在太空中出生，在那里度过一生，并繁衍后代。这样的实验从未进行过，这将是对太空中生命是否存在多代影响的决定性测试，美国国家科学院的报告强调了这一悬而未决的问题。这些研究的结果将揭示人类太空定居点能否成为现实。但对埃德布鲁克来说，对动物的多代研究从未获得批准，这是他公司存在的理由。虽然他从事的研究可能会让一些人感到不舒服，但他认为取得突破很重要。“人类的进步得益于舒适区的扩张，”他说，“如果你问我怎么看，我认为应该继续在太空中做这样的事。”作者简介：斯科特·所罗门是一位生物学家和科学传播者。他在美国莱斯大学教授生态学和进化生物学。他是播客《与斯科特·所罗门的狂野世界》的主持人，著有《未来人类：我们持续进化的科学内幕》，以及即将为麻省理工学院出版社出版的一本关于太空生活将如何影响人类身心的书。支持：Ren'}\""
      ]
     },
     "execution_count": 7,
     "metadata": {},
     "output_type": "execute_result"
    }
   ],
   "source": [
    "que = str(item)\n",
    "que"
   ]
  },
  {
   "cell_type": "code",
   "execution_count": 8,
   "metadata": {},
   "outputs": [],
   "source": [
    "# 回答模板 将summary_query的输出格式化为对象\n",
    "response_schemas = [\n",
    "    ResponseSchema(name=\"核心任务\", description=\"给出文章的核心任务, 是有关于公司的主要职责，包括产品开发、市场营销和客户支持等\"),\n",
    "    ResponseSchema(name=\"创新文化\", description=\"给出项目的创新文化部分,是有关于鼓励提出新点子和方法，以不断改进和发展公司\"),\n",
    "    ResponseSchema(name=\"激励机制\", description=\"给出激励机制,包括奖励创新和负反馈等方式，以激励创新绩效\"),\n",
    "    ResponseSchema(name=\"原创技巧\", description=\"给出原创技巧,指对项目的成功至关重要的技巧\"),\n",
    "    ResponseSchema(name=\"科研兴趣\", description=\"给出科研兴趣,是以推动创新的兴趣部分\"),\n",
    "    ResponseSchema(name=\"团队协作\", description=\"给出团队协作,是有关该任务由哪些团队协作完成,可以给出具体名字\"),\n",
    "    ResponseSchema(name=\"发生时间\", description=\"给出文章发生的大概时间\"),\n",
    "    \n",
    "]"
   ]
  },
  {
   "cell_type": "markdown",
   "metadata": {},
   "source": [
    "#### 数据解析器"
   ]
  },
  {
   "cell_type": "code",
   "execution_count": 9,
   "metadata": {},
   "outputs": [
    {
     "name": "stdout",
     "output_type": "stream",
     "text": [
      " ```python\n",
      "{\n",
      "    \"核心任务\": \"为人类在太空中生孩子创造机会\",\n",
      "    \"创新文化\": \"鼓励员工提出新的想法和方法\",\n",
      "    \"激励机制\": \"通过奖金和晋升来奖励创新成果\",\n",
      "    \"原创技巧\": \"深入研究和试验新技术和方法\",\n",
      "    \"科研兴趣\": \"探索太空环境下人体生殖系统的影响\",\n",
      "    \"团队协作\": \"CEO Egbert Edelbroek领导的SpaceBorn United团队\",\n",
      "    \"发生时间\": \"2024年\"\n",
      "}\n"
     ]
    }
   ],
   "source": [
    "summary_query = \"\"\"\n",
    "\"\n",
    "1. 核心任务：文章中涉及到公司的主要职责，包括产品开发、市场营销、客户支持等，以确定文章的核心任务是什么。\n",
    "\n",
    "2. 创新文化：查找有关鼓励新点子和方法，以不断改进和发展公司的部分，以便了解文章中提到的创新文化。\n",
    "\n",
    "3. 激励机制：寻找文章中提及的激励机制，包括奖励创新和负反馈等方式，以激励创新绩效。\n",
    "\n",
    "4. 原创技巧：识别文章中强调的成功至关重要的技巧，这些技巧对项目的成功有何关联。\n",
    "\n",
    "5. 科研兴趣：分析文章中提到的科研兴趣，以了解它们如何推动创新。\n",
    "\n",
    "6. 团队协作：查找文章中涉及的团队协作情况，可以提供具体团队的名称或信息。\n",
    "\n",
    "7. 团队协作：给出文章发生的大概时间。\n",
    "\n",
    "阅读上面文章，然后提取并分析七个关键信息，每个信息需要包括方法、人名、机构等的具体名字，可以通过全文推理得出。按照要求执行这个任务，返回一个包含七个关键信息的纯Python字典。\n",
    "\"\"\"\n",
    "\n",
    "initial_qa_template = (\n",
    "    \"[INST] <<SYS>>\\n\"\n",
    "    \"You are an article reading analyst. 你是一个文章阅读分析者。\\n\"\n",
    "    \"<</SYS>>\\n\\n\"\n",
    "    \"以下为文章的主要细节：\\n\"\n",
    "    \"{context_str}\"\n",
    "    \"\\n\"\n",
    "    \"{format_instructions}\"\n",
    "    \"\\n\"\n",
    "    \"请根据以上背景知识, 回答这个问题：{question}。\"\n",
    "    \" [/INST]\"\n",
    ")\n",
    "\n",
    "\n",
    "output_parser = StructuredOutputParser.from_response_schemas(response_schemas)\n",
    "format_instructions = output_parser.get_format_instructions()\n",
    "prompt = PromptTemplate(\n",
    "    template=initial_qa_template,\n",
    "    input_variables=[\"question\"],\n",
    "    partial_variables={\"format_instructions\": format_instructions,\"context_str\":que}\n",
    ")\n",
    "_input = prompt.format_prompt(question=summary_query)\n",
    "output = model(_input.to_string())\n",
    "print(output)"
   ]
  },
  {
   "cell_type": "code",
   "execution_count": 15,
   "metadata": {},
   "outputs": [
    {
     "data": {
      "text/plain": [
       "{'核心任务': '为人类在太空中生孩子创造机会',\n",
       " '创新文化': '鼓励员工提出新的想法和方法',\n",
       " '激励机制': '通过奖金和晋升来奖励创新成果',\n",
       " '原创技巧': '深入研究和试验新技术和方法',\n",
       " '科研兴趣': '探索太空环境下人体生殖系统的影响',\n",
       " '团队协作': 'CEO Egbert Edelbroek领导的SpaceBorn United团队',\n",
       " '发生时间': '2024年'}"
      ]
     },
     "execution_count": 15,
     "metadata": {},
     "output_type": "execute_result"
    }
   ],
   "source": [
    "output_parser.parse(output.replace(\"```\",\"\").replace(\" python\\n\",\"\").replace(\"\\n\",\"\"))"
   ]
  },
  {
   "cell_type": "code",
   "execution_count": null,
   "metadata": {},
   "outputs": [],
   "source": []
  }
 ],
 "metadata": {
  "kernelspec": {
   "display_name": "llama",
   "language": "python",
   "name": "python3"
  },
  "language_info": {
   "codemirror_mode": {
    "name": "ipython",
    "version": 3
   },
   "file_extension": ".py",
   "mimetype": "text/x-python",
   "name": "python",
   "nbconvert_exporter": "python",
   "pygments_lexer": "ipython3",
   "version": "3.10.12"
  },
  "orig_nbformat": 4
 },
 "nbformat": 4,
 "nbformat_minor": 2
}
