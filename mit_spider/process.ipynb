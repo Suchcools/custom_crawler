{
 "cells": [
  {
   "cell_type": "code",
   "execution_count": 5,
   "metadata": {},
   "outputs": [],
   "source": [
    "import pickle\n",
    "import pandas as pd\n",
    "with open('data2.pkl', 'rb') as file:\n",
    "    loaded_data = pickle.load(file)"
   ]
  },
  {
   "cell_type": "code",
   "execution_count": 11,
   "metadata": {},
   "outputs": [],
   "source": [
    "rawdata = pd.DataFrame([x[1] for x in loaded_data])\n",
    "rawdata['文章索引'] = [x[0] for x in loaded_data]\n",
    "rawdata.to_excel(\"extract.xlsx\",index=False)"
   ]
  },
  {
   "cell_type": "code",
   "execution_count": null,
   "metadata": {},
   "outputs": [],
   "source": [
    "mit_info = pd.read_excel(\"./mit_structure_info.xlsx\")\n",
    "lst1 = []\n",
    "lst2 = []\n",
    "for i in range(100):\n",
    "    item = mit_info.iloc[i].to_dict()\n",
    "    item.pop(\"id\")\n",
    "    item = {\n",
    "        '标题': item['name'],\n",
    "        '简介': item['summary'],\n",
    "        '文章类别': item['typeName'],\n",
    "        '文章内容': item['content']\n",
    "    }"
   ]
  }
 ],
 "metadata": {
  "kernelspec": {
   "display_name": "llama",
   "language": "python",
   "name": "python3"
  },
  "language_info": {
   "codemirror_mode": {
    "name": "ipython",
    "version": 3
   },
   "file_extension": ".py",
   "mimetype": "text/x-python",
   "name": "python",
   "nbconvert_exporter": "python",
   "pygments_lexer": "ipython3",
   "version": "3.10.12"
  }
 },
 "nbformat": 4,
 "nbformat_minor": 2
}
